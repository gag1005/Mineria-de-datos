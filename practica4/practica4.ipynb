{
 "cells": [
  {
   "cell_type": "code",
   "execution_count": 106,
   "metadata": {},
   "outputs": [],
   "source": [
    "import pandas as pd\n",
    "import numpy as np\n",
    "\n",
    "from sklearn.semi_supervised import SelfTrainingClassifier\n",
    "from sklearn.base import ClassifierMixin\n",
    "\n",
    "from sklearn.ensemble import RandomForestClassifier\n",
    "from sklearn.neural_network import MLPClassifier\n",
    "from sklearn.linear_model import LogisticRegression"
   ]
  },
  {
   "cell_type": "code",
   "execution_count": 107,
   "metadata": {},
   "outputs": [
    {
     "data": {
      "text/html": [
       "<div>\n",
       "<style scoped>\n",
       "    .dataframe tbody tr th:only-of-type {\n",
       "        vertical-align: middle;\n",
       "    }\n",
       "\n",
       "    .dataframe tbody tr th {\n",
       "        vertical-align: top;\n",
       "    }\n",
       "\n",
       "    .dataframe thead th {\n",
       "        text-align: right;\n",
       "    }\n",
       "</style>\n",
       "<table border=\"1\" class=\"dataframe\">\n",
       "  <thead>\n",
       "    <tr style=\"text-align: right;\">\n",
       "      <th></th>\n",
       "      <th>ph</th>\n",
       "      <th>Hardness</th>\n",
       "      <th>Solids</th>\n",
       "      <th>Chloramines</th>\n",
       "      <th>Sulfate</th>\n",
       "      <th>Conductivity</th>\n",
       "      <th>Organic_carbon</th>\n",
       "      <th>Trihalomethanes</th>\n",
       "      <th>Turbidity</th>\n",
       "      <th>Potability</th>\n",
       "    </tr>\n",
       "  </thead>\n",
       "  <tbody>\n",
       "    <tr>\n",
       "      <th>0</th>\n",
       "      <td>NaN</td>\n",
       "      <td>169.974849</td>\n",
       "      <td>23403.637304</td>\n",
       "      <td>8.519730</td>\n",
       "      <td>NaN</td>\n",
       "      <td>475.573562</td>\n",
       "      <td>12.924107</td>\n",
       "      <td>50.861913</td>\n",
       "      <td>2.747313</td>\n",
       "      <td>1.0</td>\n",
       "    </tr>\n",
       "    <tr>\n",
       "      <th>1</th>\n",
       "      <td>NaN</td>\n",
       "      <td>204.890455</td>\n",
       "      <td>20791.318981</td>\n",
       "      <td>7.300212</td>\n",
       "      <td>368.516441</td>\n",
       "      <td>564.308654</td>\n",
       "      <td>10.379783</td>\n",
       "      <td>86.990970</td>\n",
       "      <td>2.963135</td>\n",
       "      <td>NaN</td>\n",
       "    </tr>\n",
       "    <tr>\n",
       "      <th>2</th>\n",
       "      <td>5.934279</td>\n",
       "      <td>223.858125</td>\n",
       "      <td>23249.653834</td>\n",
       "      <td>4.602850</td>\n",
       "      <td>NaN</td>\n",
       "      <td>277.384537</td>\n",
       "      <td>11.366863</td>\n",
       "      <td>66.623944</td>\n",
       "      <td>5.217895</td>\n",
       "      <td>1.0</td>\n",
       "    </tr>\n",
       "    <tr>\n",
       "      <th>3</th>\n",
       "      <td>6.193170</td>\n",
       "      <td>225.683422</td>\n",
       "      <td>12883.726496</td>\n",
       "      <td>4.739360</td>\n",
       "      <td>NaN</td>\n",
       "      <td>389.405978</td>\n",
       "      <td>14.560136</td>\n",
       "      <td>76.457816</td>\n",
       "      <td>3.466645</td>\n",
       "      <td>NaN</td>\n",
       "    </tr>\n",
       "    <tr>\n",
       "      <th>4</th>\n",
       "      <td>NaN</td>\n",
       "      <td>204.852187</td>\n",
       "      <td>13286.156575</td>\n",
       "      <td>9.093843</td>\n",
       "      <td>332.845544</td>\n",
       "      <td>365.687520</td>\n",
       "      <td>8.589896</td>\n",
       "      <td>76.306376</td>\n",
       "      <td>4.268525</td>\n",
       "      <td>NaN</td>\n",
       "    </tr>\n",
       "    <tr>\n",
       "      <th>...</th>\n",
       "      <td>...</td>\n",
       "      <td>...</td>\n",
       "      <td>...</td>\n",
       "      <td>...</td>\n",
       "      <td>...</td>\n",
       "      <td>...</td>\n",
       "      <td>...</td>\n",
       "      <td>...</td>\n",
       "      <td>...</td>\n",
       "      <td>...</td>\n",
       "    </tr>\n",
       "    <tr>\n",
       "      <th>2759</th>\n",
       "      <td>8.347949</td>\n",
       "      <td>231.203101</td>\n",
       "      <td>13533.230033</td>\n",
       "      <td>7.623604</td>\n",
       "      <td>313.671127</td>\n",
       "      <td>527.380871</td>\n",
       "      <td>18.663901</td>\n",
       "      <td>58.052866</td>\n",
       "      <td>4.217861</td>\n",
       "      <td>NaN</td>\n",
       "    </tr>\n",
       "    <tr>\n",
       "      <th>2760</th>\n",
       "      <td>6.836225</td>\n",
       "      <td>166.742962</td>\n",
       "      <td>24293.172663</td>\n",
       "      <td>6.861235</td>\n",
       "      <td>332.881582</td>\n",
       "      <td>390.804955</td>\n",
       "      <td>16.006991</td>\n",
       "      <td>87.101925</td>\n",
       "      <td>3.666614</td>\n",
       "      <td>NaN</td>\n",
       "    </tr>\n",
       "    <tr>\n",
       "      <th>2761</th>\n",
       "      <td>6.385471</td>\n",
       "      <td>231.488458</td>\n",
       "      <td>26756.918000</td>\n",
       "      <td>8.774357</td>\n",
       "      <td>NaN</td>\n",
       "      <td>422.067701</td>\n",
       "      <td>16.563116</td>\n",
       "      <td>73.260640</td>\n",
       "      <td>4.681717</td>\n",
       "      <td>NaN</td>\n",
       "    </tr>\n",
       "    <tr>\n",
       "      <th>2762</th>\n",
       "      <td>6.490037</td>\n",
       "      <td>205.541517</td>\n",
       "      <td>19397.323889</td>\n",
       "      <td>7.894245</td>\n",
       "      <td>368.561073</td>\n",
       "      <td>479.786195</td>\n",
       "      <td>15.805085</td>\n",
       "      <td>56.982020</td>\n",
       "      <td>2.430883</td>\n",
       "      <td>NaN</td>\n",
       "    </tr>\n",
       "    <tr>\n",
       "      <th>2763</th>\n",
       "      <td>11.180284</td>\n",
       "      <td>227.231469</td>\n",
       "      <td>25484.508491</td>\n",
       "      <td>9.077200</td>\n",
       "      <td>404.041635</td>\n",
       "      <td>563.885481</td>\n",
       "      <td>17.927806</td>\n",
       "      <td>71.976601</td>\n",
       "      <td>4.370562</td>\n",
       "      <td>NaN</td>\n",
       "    </tr>\n",
       "  </tbody>\n",
       "</table>\n",
       "<p>2764 rows × 10 columns</p>\n",
       "</div>"
      ],
      "text/plain": [
       "             ph    Hardness        Solids  Chloramines     Sulfate   \n",
       "0           NaN  169.974849  23403.637304     8.519730         NaN  \\\n",
       "1           NaN  204.890455  20791.318981     7.300212  368.516441   \n",
       "2      5.934279  223.858125  23249.653834     4.602850         NaN   \n",
       "3      6.193170  225.683422  12883.726496     4.739360         NaN   \n",
       "4           NaN  204.852187  13286.156575     9.093843  332.845544   \n",
       "...         ...         ...           ...          ...         ...   \n",
       "2759   8.347949  231.203101  13533.230033     7.623604  313.671127   \n",
       "2760   6.836225  166.742962  24293.172663     6.861235  332.881582   \n",
       "2761   6.385471  231.488458  26756.918000     8.774357         NaN   \n",
       "2762   6.490037  205.541517  19397.323889     7.894245  368.561073   \n",
       "2763  11.180284  227.231469  25484.508491     9.077200  404.041635   \n",
       "\n",
       "      Conductivity  Organic_carbon  Trihalomethanes  Turbidity  Potability  \n",
       "0       475.573562       12.924107        50.861913   2.747313         1.0  \n",
       "1       564.308654       10.379783        86.990970   2.963135         NaN  \n",
       "2       277.384537       11.366863        66.623944   5.217895         1.0  \n",
       "3       389.405978       14.560136        76.457816   3.466645         NaN  \n",
       "4       365.687520        8.589896        76.306376   4.268525         NaN  \n",
       "...            ...             ...              ...        ...         ...  \n",
       "2759    527.380871       18.663901        58.052866   4.217861         NaN  \n",
       "2760    390.804955       16.006991        87.101925   3.666614         NaN  \n",
       "2761    422.067701       16.563116        73.260640   4.681717         NaN  \n",
       "2762    479.786195       15.805085        56.982020   2.430883         NaN  \n",
       "2763    563.885481       17.927806        71.976601   4.370562         NaN  \n",
       "\n",
       "[2764 rows x 10 columns]"
      ]
     },
     "execution_count": 107,
     "metadata": {},
     "output_type": "execute_result"
    }
   ],
   "source": [
    "testdf = pd.read_csv(\"data/water_quality_test.csv\")\n",
    "traindf = pd.read_csv(\"data/water_quality_train.csv\")\n",
    "testdf['Potability'] = testdf['Potability'].apply(lambda x: 1 if x == \"Yes\" else 0)\n",
    "traindf['Potability'] = traindf['Potability'].apply(lambda x: 1 if x == \"Yes\" else 0 if x == \"No\" else x)\n",
    "\n",
    "traindf\n",
    "# traindfnotna = traindf.dropna()\n",
    "\n"
   ]
  },
  {
   "cell_type": "code",
   "execution_count": 108,
   "metadata": {},
   "outputs": [],
   "source": [
    "x = traindf.drop('Potability', axis=1)\n",
    "x = x.fillna(x.median())\n",
    "traindf = pd.concat((x, pd.DataFrame(traindf['Potability']).fillna(-1)), axis=1)"
   ]
  },
  {
   "cell_type": "code",
   "execution_count": 109,
   "metadata": {},
   "outputs": [],
   "source": [
    "# Lista de clasificadores\n",
    "classifierList: list[ClassifierMixin] = [\n",
    "    RandomForestClassifier(),\n",
    "    MLPClassifier(), \n",
    "    LogisticRegression()\n",
    "]"
   ]
  },
  {
   "cell_type": "code",
   "execution_count": 110,
   "metadata": {},
   "outputs": [],
   "source": [
    "sampleSize = traindf.shape[0] // len(classifierList)\n",
    "trainSamples:list[tuple[pd.DataFrame, pd.DataFrame]] = []\n",
    "for i in range(len(classifierList)):\n",
    "    sample = traindf.sample(sampleSize)\n",
    "    trainSamples.append((traindf.drop('Potability', axis=1), pd.DataFrame(traindf['Potability'])))"
   ]
  },
  {
   "cell_type": "code",
   "execution_count": 111,
   "metadata": {},
   "outputs": [],
   "source": [
    "xTest = testdf.drop('Potability', axis=1)\n",
    "yTest = pd.DataFrame(testdf['Potability'])"
   ]
  },
  {
   "cell_type": "code",
   "execution_count": 112,
   "metadata": {},
   "outputs": [],
   "source": [
    "# Convertimos los clasificadores en semi-supervisados\n",
    "\n",
    "classifierList: list[tuple[str, ClassifierMixin]] = [(str(c), SelfTrainingClassifier(c)) for c in classifierList]"
   ]
  },
  {
   "cell_type": "code",
   "execution_count": 113,
   "metadata": {},
   "outputs": [],
   "source": [
    "for nc, sam in zip(classifierList, trainSamples):\n",
    "    nc[1].fit(sam[0].to_numpy(), sam[1].to_numpy().transpose()[0])"
   ]
  },
  {
   "cell_type": "code",
   "execution_count": 114,
   "metadata": {},
   "outputs": [
    {
     "data": {
      "text/plain": [
       "[0.55078125, 0.50390625, 0.513671875]"
      ]
     },
     "execution_count": 114,
     "metadata": {},
     "output_type": "execute_result"
    }
   ],
   "source": [
    "scores = [c.score(xTest.to_numpy(), yTest.to_numpy()) for s, c in classifierList]\n",
    "scores"
   ]
  },
  {
   "cell_type": "code",
   "execution_count": 119,
   "metadata": {},
   "outputs": [
    {
     "data": {
      "text/plain": [
       "array([1, 0, 0, 1, 1, 1, 0, 1, 1, 1, 1, 0, 1, 1, 1, 1, 1, 1, 0, 1, 1, 0,\n",
       "       1, 1, 1, 1, 1, 1, 0, 1, 1, 1, 0, 0, 1, 1, 1, 0, 0, 0, 0, 1, 0, 0,\n",
       "       0, 1, 0, 1, 0, 0, 1, 0, 0, 1, 1, 1, 1, 1, 0, 1, 1, 1, 1, 0, 1, 0,\n",
       "       1, 0, 1, 1, 0, 0, 0, 0, 1, 1, 1, 0, 1, 0, 0, 0, 1, 0, 1, 1, 1, 1,\n",
       "       0, 1, 0, 1, 1, 0, 1, 1, 1, 1, 1, 1, 1, 1, 1, 1, 1, 1, 0, 1, 1, 0,\n",
       "       0, 1, 1, 1, 1, 1, 1, 1, 1, 1, 0, 1, 1, 0, 1, 1, 0, 1, 0, 0, 1, 0,\n",
       "       1, 1, 0, 0, 1, 1, 1, 1, 1, 1, 1, 0, 1, 0, 1, 1, 1, 1, 1, 0, 1, 1,\n",
       "       1, 1, 1, 1, 0, 0, 1, 0, 1, 1, 0, 0, 1, 1, 0, 0, 0, 0, 0, 1, 1, 1,\n",
       "       1, 1, 1, 0, 1, 1, 0, 0, 0, 1, 0, 1, 1, 0, 0, 1, 0, 1, 1, 0, 1, 1,\n",
       "       0, 1, 1, 1, 1, 0, 0, 1, 1, 1, 1, 1, 1, 1, 1, 1, 1, 0, 1, 1, 1, 0,\n",
       "       0, 0, 0, 0, 1, 0, 1, 1, 1, 1, 1, 0, 0, 0, 1, 0, 0, 1, 0, 1, 0, 0,\n",
       "       0, 0, 1, 1, 0, 0, 1, 0, 1, 0, 0, 0, 1, 1, 0, 0, 1, 1, 1, 1, 1, 1,\n",
       "       0, 1, 0, 1, 1, 1, 1, 1, 1, 0, 1, 1, 1, 0, 0, 1, 1, 1, 0, 1, 1, 0,\n",
       "       0, 1, 0, 1, 1, 1, 1, 0, 0, 1, 0, 0, 1, 1, 0, 1, 1, 0, 0, 1, 1, 1,\n",
       "       1, 0, 1, 0, 0, 1, 1, 1, 0, 1, 0, 1, 1, 1, 1, 1, 1, 1, 0, 1, 1, 1,\n",
       "       1, 0, 0, 1, 1, 1, 1, 1, 0, 1, 0, 1, 0, 1, 1, 0, 0, 0, 1, 1, 0, 0,\n",
       "       0, 0, 1, 1, 0, 0, 0, 1, 0, 1, 1, 0, 0, 1, 0, 1, 1, 1, 0, 1, 0, 0,\n",
       "       0, 1, 0, 1, 0, 1, 1, 1, 1, 0, 1, 0, 1, 1, 1, 1, 1, 1, 0, 1, 1, 0,\n",
       "       1, 1, 1, 1, 0, 1, 1, 0, 0, 1, 1, 1, 1, 1, 1, 1, 1, 1, 1, 1, 1, 1,\n",
       "       0, 1, 1, 1, 1, 0, 0, 1, 1, 0, 1, 1, 0, 1, 0, 0, 0, 1, 0, 0, 0, 1,\n",
       "       0, 0, 1, 1, 0, 0, 1, 1, 1, 0, 0, 0, 1, 1, 1, 1, 1, 0, 1, 1, 0, 1,\n",
       "       0, 1, 0, 1, 0, 1, 0, 1, 1, 1, 1, 1, 1, 1, 1, 1, 1, 1, 1, 1, 1, 0,\n",
       "       1, 0, 0, 1, 1, 1, 1, 0, 1, 1, 0, 1, 1, 1, 1, 1, 1, 0, 0, 0, 0, 1,\n",
       "       1, 0, 1, 1, 1, 0])"
      ]
     },
     "execution_count": 119,
     "metadata": {},
     "output_type": "execute_result"
    }
   ],
   "source": [
    "predictions = np.apply_along_axis(lambda x: np.argmax(np.bincount(x)), 0, np.array([c.predict(xTest.to_numpy()) for s, c in classifierList]).astype(int))\n",
    "predictions"
   ]
  }
 ],
 "metadata": {
  "kernelspec": {
   "display_name": "Python 3",
   "language": "python",
   "name": "python3"
  },
  "language_info": {
   "codemirror_mode": {
    "name": "ipython",
    "version": 3
   },
   "file_extension": ".py",
   "mimetype": "text/x-python",
   "name": "python",
   "nbconvert_exporter": "python",
   "pygments_lexer": "ipython3",
   "version": "3.11.3"
  },
  "orig_nbformat": 4,
  "vscode": {
   "interpreter": {
    "hash": "e7370f93d1d0cde622a1f8e1c04877d8463912d04d973331ad4851f04de6915a"
   }
  }
 },
 "nbformat": 4,
 "nbformat_minor": 2
}
