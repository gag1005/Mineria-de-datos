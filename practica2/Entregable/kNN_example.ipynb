{
 "cells": [
  {
   "cell_type": "markdown",
   "metadata": {},
   "source": [
    "## Resolviendo  k-Nearest Neighbors\n",
    "\n",
    "k-Nearest Neighbors es un algoritmo muy utilizado para la clasificación, regresión y para imputar valores faltantes. Funciona muy bien cuando tienes una gran cantidad de clases y algunas muestras por clase. \n",
    "kNN en una frase: es un algoritmo que clasifica o calcula una regresión basada en los elementos del conjunto de entrenamiento que están \"más cerca\" de cada uno de los puntos de prueba.\n",
    "\n",
    "k Parámetro - Tamaño del vecindario\n",
    "\n",
    "1.\tk representa la cantidad de vecinos con los que comparar datos. Es por eso que generalmente k es un número impar.\n",
    "2.\tCuanto más grande es la K, menos \"definidos\" o más suaves son los vecindarios.\n",
    "\n",
    "La distancia es un factor clave para determinar quién está más cerca. La distancia afecta el tamaño y las características de los vecindarios. El más utilizado es la distancia euclidiana ya que da la distancia más cercana entre 2 puntos. Distancias más comunes\n",
    "\n",
    "1.\tEuclidiano: la distancia más corta entre puntos que podrían no ser la mejor opción cuando las características están normalizadas. Normalmente se utiliza en el reconocimiento facial.\n",
    "2.\tTaxi o Manhattan: es la suma de las diferencias absolutas de las coordenadas cartesianas de 2 puntos. Funciona de la misma manera que cuando un automóvil necesita moverse alrededor de \"bloques\" para llegar al destino.\n",
    "3.\tMinkowski: es una mezcla de Euclidiano y Manhattan.\n",
    "\n",
    "La cantidad de características afecta significativamente a kNN porque cuantos más puntos tengamos, más \"único\" se volverá cada vecindario. También afecta la velocidad porque primero necesitamos medir cada distancia para determinar quiénes son los vecinos k más cercanos.\n",
    "\n"
   ]
  },
  {
   "cell_type": "markdown",
   "metadata": {},
   "source": [
    "### El algotitmo KNN<br>\n",
    "\n",
    "__1- Dividir el conjunto de datos en entrenamiento/pruebas sets.__ El conjunto de datos debe dividirse en 2, generalmente 80-20 o 70-30%. Cada conjunto de datos debe dividirse en características (x) y etiquetas (y).<br>\n",
    "__2- Crear una matriz con todos los distances.__ El tamaño de la matriz es i*j donde i=rows en el conjunto de entrenamiento y j=rows en el conjunto de pruebas.<br>\n",
    "__3- Ordenar la matriz por columns.__ Al ordenar cada columna podemos determinar qué puntos (filas en el conjunto de entrenamiento) están más cerca de los puntos del conjunto de prueba (representados en columnas).<br>\n",
    "__4- Obtenga los índices de los k primeros neighbors.__ Encuentre los puntos en el conjunto de entrenamiento que están más cerca de los puntos de ajuste de prueba.<br>\n",
    "__5- Obtener la etiqueta que más se repite en el k superior neighbors.__ Matemáticamente es el modo de las etiquetas de los k vecinos superiores.<br>\n",
    "__6- Crear una nueva matriz con la etiqueta proyectada de la set.__ de prueba El tamaño de la matriz es el mismo tamaño que el y del conjunto de pruebas.<br>\n",
    "__7- Calcular la precisión de la labels.__ proyectada Evaluar las diferencias entre la etiqueta proyectada de y en el conjunto de prueba con la y real del conjunto de prueba. Si la precisión es baja, podemos cambiarla modificando k.<br>\n",
    "__8- Implementar algorithm.__ modelo está listo para ser desplegado. <br>\n",
    "\n"
   ]
  },
  {
   "cell_type": "markdown",
   "metadata": {},
   "source": [
    "### El siguiente ejemplo se puede utilizar para resolver 'cualquier' tipo de problema kNN sin sklearn, especialmente si desea cambiar algún código fuente para adaptarlo a sus necesidades particulares.\n",
    "\n",
    "Voy a usar el 'famoso' Iris Flower Dataset que puedes descargar en cualquier lugar. Si no conoce este conjunto de datos, puede obtener más información aquí: https://en.wikipedia.org/wiki/Iris_flower_data_set\n",
    "## Imports"
   ]
  },
  {
   "cell_type": "code",
   "execution_count": 1,
   "metadata": {},
   "outputs": [],
   "source": [
    "import pandas as pd\n",
    "import numpy as np\n",
    "from sklearn.model_selection import train_test_split\n",
    "from sklearn.preprocessing import StandardScaler\n",
    "from sklearn.metrics import confusion_matrix\n",
    "import multiprocess"
   ]
  },
  {
   "cell_type": "markdown",
   "metadata": {},
   "source": [
    "### El algotitmo KNN<br>\n",
    "\n",
    "Descargar el archivo\n",
    "\n"
   ]
  },
  {
   "cell_type": "code",
   "execution_count": 2,
   "metadata": {},
   "outputs": [
    {
     "data": {
      "text/html": [
       "<div>\n",
       "<style scoped>\n",
       "    .dataframe tbody tr th:only-of-type {\n",
       "        vertical-align: middle;\n",
       "    }\n",
       "\n",
       "    .dataframe tbody tr th {\n",
       "        vertical-align: top;\n",
       "    }\n",
       "\n",
       "    .dataframe thead th {\n",
       "        text-align: right;\n",
       "    }\n",
       "</style>\n",
       "<table border=\"1\" class=\"dataframe\">\n",
       "  <thead>\n",
       "    <tr style=\"text-align: right;\">\n",
       "      <th></th>\n",
       "      <th>0</th>\n",
       "      <th>1</th>\n",
       "      <th>2</th>\n",
       "      <th>3</th>\n",
       "      <th>4</th>\n",
       "    </tr>\n",
       "  </thead>\n",
       "  <tbody>\n",
       "    <tr>\n",
       "      <th>0</th>\n",
       "      <td>5.1</td>\n",
       "      <td>3.5</td>\n",
       "      <td>1.4</td>\n",
       "      <td>0.2</td>\n",
       "      <td>Iris-setosa</td>\n",
       "    </tr>\n",
       "    <tr>\n",
       "      <th>1</th>\n",
       "      <td>4.9</td>\n",
       "      <td>3.0</td>\n",
       "      <td>1.4</td>\n",
       "      <td>0.2</td>\n",
       "      <td>Iris-setosa</td>\n",
       "    </tr>\n",
       "    <tr>\n",
       "      <th>2</th>\n",
       "      <td>4.7</td>\n",
       "      <td>3.2</td>\n",
       "      <td>1.3</td>\n",
       "      <td>0.2</td>\n",
       "      <td>Iris-setosa</td>\n",
       "    </tr>\n",
       "    <tr>\n",
       "      <th>3</th>\n",
       "      <td>4.6</td>\n",
       "      <td>3.1</td>\n",
       "      <td>1.5</td>\n",
       "      <td>0.2</td>\n",
       "      <td>Iris-setosa</td>\n",
       "    </tr>\n",
       "    <tr>\n",
       "      <th>4</th>\n",
       "      <td>5.0</td>\n",
       "      <td>3.6</td>\n",
       "      <td>1.4</td>\n",
       "      <td>0.2</td>\n",
       "      <td>Iris-setosa</td>\n",
       "    </tr>\n",
       "  </tbody>\n",
       "</table>\n",
       "</div>"
      ],
      "text/plain": [
       "     0    1    2    3            4\n",
       "0  5.1  3.5  1.4  0.2  Iris-setosa\n",
       "1  4.9  3.0  1.4  0.2  Iris-setosa\n",
       "2  4.7  3.2  1.3  0.2  Iris-setosa\n",
       "3  4.6  3.1  1.5  0.2  Iris-setosa\n",
       "4  5.0  3.6  1.4  0.2  Iris-setosa"
      ]
     },
     "execution_count": 2,
     "metadata": {},
     "output_type": "execute_result"
    }
   ],
   "source": [
    "df = pd.read_csv('iris.data', header=None)\n",
    "df.head()"
   ]
  },
  {
   "cell_type": "markdown",
   "metadata": {},
   "source": [
    "### El algotitmo KNN<br>\n",
    "\n",
    "__1- Dividir el conjunto de datos en entrenamiento/pruebas sets.__ El conjunto de datos debe dividirse en 2, generalmente 80-20 o 70-30%. Cada conjunto de datos debe dividirse en características (x) y etiquetas (y).<br>\n"
   ]
  },
  {
   "cell_type": "code",
   "execution_count": 3,
   "metadata": {},
   "outputs": [
    {
     "name": "stdout",
     "output_type": "stream",
     "text": [
      "Conjuntos de datos:\n",
      "xTrain: (120, 4)\n",
      "xTest: (30, 4)\n",
      "yTrain: (120, 1)\n",
      "yTest: (30, 1)\n",
      "\n",
      "[[6.8 2.8 4.8 1.4]\n",
      " [7.2 3.  5.8 1.6]\n",
      " [6.2 2.9 4.3 1.3]\n",
      " [5.7 4.4 1.5 0.4]\n",
      " [5.  3.2 1.2 0.2]]\n"
     ]
    }
   ],
   "source": [
    "#Usar  Train-Test-Split para preparar los datos de test datasets/arrays\n",
    "\n",
    "x = df.iloc[:, :-1]\n",
    "y = pd.DataFrame(df.iloc[:, -1])\n",
    "\n",
    "xTrain, xTest, yTrain, yTest = train_test_split(x, y, test_size=0.2)\n",
    "\n",
    "#Mostrar las caracterñisticas de los arrays\n",
    "print('Conjuntos de datos:')\n",
    "print('xTrain: ' + str(xTrain.shape))\n",
    "print('xTest: ' + str(xTest.shape))\n",
    "print('yTrain: ' + str(yTrain.shape))\n",
    "print('yTest: ' + str(yTest.shape))\n",
    "print(\"\")\n",
    "\n",
    "print(xTrain[:5].to_numpy())\n",
    "\n",
    "\n"
   ]
  },
  {
   "cell_type": "markdown",
   "metadata": {},
   "source": [
    "#### Distancias\n",
    "La distancia euclidiana se calcula de la misma manera que cuando se calcula la hipotenusa en un triángulo. La distancia euclidiana sigue el teorema de Pitágoras. Tenemos coordenadas S p=(p1,p2) y q=(q1,q2), por lo que la distancia euclidiana es la raíz cuadrada de la diferencia de cada punto elevada al cuadrado:<br>\n",
    "\n",
    "__In su forma general:__<br>\n",
    "ED = SQRT((qi-pi)^2)<br>\n",
    "<br>\n",
    "__In su forma matricial:__<br>\n",
    "ED = SQRT((qi-pi) . traspose(qi-pi))<br>\n",
    "\n",
    "El producto de puntos de (qi-pi) y (qi-pi) transpuesto es el equivalente matricial de una función elevada al cuadrado.<br>\n",
    "\n",
    "__With todos los términos:__<br>\n",
    "pi. T(pi) + qi. T(qi) - 2(qi. T(pi) <br>\n",
    "\n",
    "Resumen: crearemos 1 matriz para el primer término, otra matriz para el 2º término y una 3ª matriz con el término final y luego añadiremos las 2 primeras y restaremos 2 veces la 3ª matriz.\n",
    "\n"
   ]
  },
  {
   "cell_type": "code",
   "execution_count": 4,
   "metadata": {},
   "outputs": [],
   "source": [
    "#Importar las funciones de  knn.py \n",
    "#El archivo  knn.py tiene que estar en el mismo directorio que el principal\n",
    "# from knn import knn_predictions\n",
    "# from knn import knn_accuracy\n",
    "from knn import knn_predecir\n",
    "from knn import knn_precision"
   ]
  },
  {
   "cell_type": "code",
   "execution_count": 5,
   "metadata": {},
   "outputs": [],
   "source": [
    "#Desde  sklearn.neighbors importamos el clasificador KNeighborsClassifier\n",
    "from sklearn.metrics import accuracy_score\n",
    "from sklearn import metrics\n",
    "import matplotlib.pyplot as plt "
   ]
  },
  {
   "cell_type": "markdown",
   "metadata": {},
   "source": []
  },
  {
   "cell_type": "code",
   "execution_count": 6,
   "metadata": {},
   "outputs": [
    {
     "name": "stdout",
     "output_type": "stream",
     "text": [
      "El mejor valor para K es: 1 con una precisión de 1.0\n"
     ]
    },
    {
     "data": {
      "text/plain": [
       "[<matplotlib.lines.Line2D at 0x7f97aa85b510>]"
      ]
     },
     "execution_count": 6,
     "metadata": {},
     "output_type": "execute_result"
    },
    {
     "data": {
      "image/png": "[encoded data removed]",
      "text/plain": [
       "<Figure size 432x288 with 1 Axes>"
      ]
     },
     "metadata": {
      "needs_background": "light"
     },
     "output_type": "display_data"
    }
   ],
   "source": [
    "#Buscamos el mejor valor para K 15 iteraciones\n",
    "Ks = 100\n",
    "# Calcular la matriz de confusión;\n",
    "precisions = np.array([accuracy_score(yTest, knn_predecir(xTrain, yTrain, xTest, i)) for i in np.arange(1, Ks)])\n",
    "maxK = precisions.argmax() + 1\n",
    "print(\"El mejor valor para K es: \" + str(maxK) + \" con una precisión de \" + str(precisions[maxK - 1]))\n",
    "plt.plot(precisions)"
   ]
  },
  {
   "cell_type": "code",
   "execution_count": 7,
   "metadata": {},
   "outputs": [
    {
     "data": {
      "text/plain": [
       "array(['Iris-versicolor', 'Iris-virginica', 'Iris-virginica',\n",
       "       'Iris-setosa', 'Iris-virginica', 'Iris-versicolor', 'Iris-setosa',\n",
       "       'Iris-setosa', 'Iris-virginica', 'Iris-setosa', 'Iris-versicolor',\n",
       "       'Iris-versicolor', 'Iris-setosa', 'Iris-setosa', 'Iris-setosa',\n",
       "       'Iris-virginica', 'Iris-virginica', 'Iris-virginica',\n",
       "       'Iris-setosa', 'Iris-virginica', 'Iris-versicolor',\n",
       "       'Iris-versicolor', 'Iris-virginica', 'Iris-virginica',\n",
       "       'Iris-versicolor', 'Iris-versicolor', 'Iris-setosa', 'Iris-setosa',\n",
       "       'Iris-setosa', 'Iris-setosa'], dtype='<U21')"
      ]
     },
     "execution_count": 7,
     "metadata": {},
     "output_type": "execute_result"
    }
   ],
   "source": [
    "#La función knn_predictions llamará a knn_distances y traerá de vuelta la predicción basada en la distancia y el tamaño de k.\n",
    "predictions = knn_predecir(xTrain, yTrain, xTest, maxK)\n",
    "predictions"
   ]
  },
  {
   "cell_type": "code",
   "execution_count": 8,
   "metadata": {},
   "outputs": [
    {
     "data": {
      "text/plain": [
       "100.0"
      ]
     },
     "execution_count": 8,
     "metadata": {},
     "output_type": "execute_result"
    }
   ],
   "source": [
    "#LLamaremos  a  knn_accuracy ( escrito en knn.py )\n",
    "knn_precision(yTest, predictions)"
   ]
  },
  {
   "cell_type": "code",
   "execution_count": 10,
   "metadata": {},
   "outputs": [
    {
     "ename": "TypeError",
     "evalue": "ConfusionMatrixDisplay.__init__() got an unexpected keyword argument 'cmap'",
     "output_type": "error",
     "traceback": [
      "\u001b[0;31m---------------------------------------------------------------------------\u001b[0m",
      "\u001b[0;31mTypeError\u001b[0m                                 Traceback (most recent call last)",
      "\u001b[1;32m/home/guillermo/Documentos/Estudios/MinDatos/Mineria-de-datos/practica2/iris/kNN_example.ipynb Cell 16\u001b[0m in \u001b[0;36m4\n\u001b[1;32m      <a href='vscode-notebook-cell:/home/guillermo/Documentos/Estudios/MinDatos/Mineria-de-datos/practica2/iris/kNN_example.ipynb#X21sZmlsZQ%3D%3D?line=1'>2</a>\u001b[0m \u001b[39mfrom\u001b[39;00m \u001b[39msklearn\u001b[39;00m\u001b[39m.\u001b[39;00m\u001b[39mmetrics\u001b[39;00m \u001b[39mimport\u001b[39;00m ConfusionMatrixDisplay\n\u001b[1;32m      <a href='vscode-notebook-cell:/home/guillermo/Documentos/Estudios/MinDatos/Mineria-de-datos/practica2/iris/kNN_example.ipynb#X21sZmlsZQ%3D%3D?line=2'>3</a>\u001b[0m cm \u001b[39m=\u001b[39m confusion_matrix(yTest, predictions)\n\u001b[0;32m----> <a href='vscode-notebook-cell:/home/guillermo/Documentos/Estudios/MinDatos/Mineria-de-datos/practica2/iris/kNN_example.ipynb#X21sZmlsZQ%3D%3D?line=3'>4</a>\u001b[0m ConfusionMatrixDisplay(cm, display_labels\u001b[39m=\u001b[39mnp\u001b[39m.\u001b[39munique(predictions), cmap\u001b[39m=\u001b[39m\u001b[39m'\u001b[39m\u001b[39mplasma\u001b[39m\u001b[39m'\u001b[39m)\u001b[39m.\u001b[39mplot()\n",
      "\u001b[0;31mTypeError\u001b[0m: ConfusionMatrixDisplay.__init__() got an unexpected keyword argument 'cmap'"
     ]
    }
   ],
   "source": [
    "from sklearn.metrics import confusion_matrix\n",
    "from sklearn.metrics import ConfusionMatrixDisplay\n",
    "cm = confusion_matrix(yTest, predictions)\n",
    "ConfusionMatrixDisplay(cm, display_labels=np.unique(predictions)).plot()"
   ]
  },
  {
   "cell_type": "code",
   "execution_count": null,
   "metadata": {},
   "outputs": [],
   "source": []
  },
  {
   "cell_type": "markdown",
   "metadata": {},
   "source": [
    "### Resumen y conclusiones\n",
    "- KNN funciona muy bien cuando algunas características realmente pueden diferenciar cada vecindario. Demasiadas características, especialmente las que agregan ruido, hacen que kNN tenga malos resultados y ralentizará los cálculos. \n",
    " - Puede utilizar este modelo matemático para generar y evaluar cualquier modelo knn.\n",
    " - Funciona muy bien cuando tienes una gran cantidad de clases y algunas muestras por clase.\n"
   ]
  },
  {
   "cell_type": "code",
   "execution_count": null,
   "metadata": {},
   "outputs": [],
   "source": []
  }
 ],
 "metadata": {
  "kernelspec": {
   "display_name": "Python 3",
   "language": "python",
   "name": "python3"
  },
  "language_info": {
   "codemirror_mode": {
    "name": "ipython",
    "version": 3
   },
   "file_extension": ".py",
   "mimetype": "text/x-python",
   "name": "python",
   "nbconvert_exporter": "python",
   "pygments_lexer": "ipython3",
   "version": "3.11.2"
  },
  "vscode": {
   "interpreter": {
    "hash": "e7370f93d1d0cde622a1f8e1c04877d8463912d04d973331ad4851f04de6915a"
   }
  }
 },
 "nbformat": 4,
 "nbformat_minor": 2
}
